{
 "cells": [
  {
   "cell_type": "markdown",
   "id": "f1e9a7d1",
   "metadata": {},
   "source": [
    "**Name** : Kamran Khan\n",
    "\n",
    "**Batch** : B1\n",
    "\n",
    "**Roll No** : 11\n",
    "\n",
    "**Class** : TY CSE-AIML"
   ]
  },
  {
   "cell_type": "markdown",
   "id": "95a12ae4",
   "metadata": {},
   "source": [
    "<h1 align=\"center\">Computing Lab - II | Experiment No - 2</h1>"
   ]
  },
  {
   "cell_type": "markdown",
   "id": "46262be0",
   "metadata": {},
   "source": [
    "**Aim**: Learn and practice NumPy's essential array operations: indexing, slicing, reshaping, axis manipulation, and transpose."
   ]
  },
  {
   "cell_type": "markdown",
   "id": "74556ceb",
   "metadata": {},
   "source": [
    "**Objective**: Through this experiment, develop a solid grasp of key NumPy array operations, including indexing, slicing, reshaping, as well as acquire proficiency in utilizing axis manipulation and transpose functionalities to effectively manipulate and analyze data arrays within the NumPy framework."
   ]
  },
  {
   "cell_type": "markdown",
   "id": "65242bb7",
   "metadata": {},
   "source": [
    "**Theory** : NumPy is a core Python library tailored for numerical computations, providing versatile n-dimensional arrays that excel in handling large datasets. It supports an array of mathematical functions, advanced indexing, and memory-efficient data types. Its robust features empower tasks in data analysis, simulations, and machine learning, underpinning Python's prominence in scientific computing."
   ]
  },
  {
   "cell_type": "code",
   "execution_count": 3,
   "id": "a954efe1",
   "metadata": {},
   "outputs": [],
   "source": [
    "import numpy as np"
   ]
  },
  {
   "cell_type": "markdown",
   "id": "e5a223cf",
   "metadata": {},
   "source": [
    "1. **Indexing**: Indexing refers to the process of accessing individual elements of an array using their position, known as the index. In Python, indexing starts from 0."
   ]
  },
  {
   "cell_type": "code",
   "execution_count": 5,
   "id": "4f8fc5ab",
   "metadata": {},
   "outputs": [
    {
     "name": "stdout",
     "output_type": "stream",
     "text": [
      "3\n"
     ]
    }
   ],
   "source": [
    "# Example: 1D Array\n",
    "\n",
    "# Creating a 1D array\n",
    "arr_1d = np.array([1, 2, 3, 4, 5, 6, 7, 8, 9, 10])\n",
    "\n",
    "# Indexing in a 1D array\n",
    "indexed_element = arr_1d[2]  # Accessing element at index 2 (zero-based)\n",
    "\n",
    "# Print indexed element\n",
    "print(indexed_element)"
   ]
  },
  {
   "cell_type": "code",
   "execution_count": 6,
   "id": "7cf8a515",
   "metadata": {},
   "outputs": [
    {
     "data": {
      "text/plain": [
       "6"
      ]
     },
     "execution_count": 6,
     "metadata": {},
     "output_type": "execute_result"
    }
   ],
   "source": [
    "# Example: 2D Array\n",
    "\n",
    "# Creating a 2D array (matrix)\n",
    "arr_2d = np.array([[1, 2, 3],\n",
    "                   [4, 5, 6],\n",
    "                   [7, 8, 9]])\n",
    "\n",
    "# Indexing in a 2D array\n",
    "indexed_element_2d = arr_2d[1, 2]  # Accessing element at row 1, column 2\n",
    "\n",
    "# Print indexed element\n",
    "indexed_element_2d"
   ]
  },
  {
   "cell_type": "code",
   "execution_count": 7,
   "id": "4534dd95",
   "metadata": {},
   "outputs": [
    {
     "data": {
      "text/plain": [
       "6"
      ]
     },
     "execution_count": 7,
     "metadata": {},
     "output_type": "execute_result"
    }
   ],
   "source": [
    "# Example: 3D Array\n",
    "\n",
    "# Creating a 3D array\n",
    "arr_3d = np.array([[[1, 2, 3],\n",
    "                    [4, 5, 6]],\n",
    "                   [[7, 8, 9],\n",
    "                    [10, 11, 12]]])\n",
    "\n",
    "# Indexing in a 3D array\n",
    "indexed_element_3d = arr_3d[0, 1, 2]  # Accessing element at (0, 1, 2)\n",
    "\n",
    "# Print indexed element\n",
    "indexed_element_3d"
   ]
  },
  {
   "cell_type": "markdown",
   "id": "33b18c56",
   "metadata": {},
   "source": [
    "2. **Slicing**: Slicing allows us to extract a portion of an array by specifying a range of indices. The slicing syntax is [start:end], where the start index is included and the end index is excluded."
   ]
  },
  {
   "cell_type": "code",
   "execution_count": 8,
   "id": "0a71e2bf",
   "metadata": {},
   "outputs": [
    {
     "data": {
      "text/plain": [
       "array([3, 4, 5, 6])"
      ]
     },
     "execution_count": 8,
     "metadata": {},
     "output_type": "execute_result"
    }
   ],
   "source": [
    "# Example: 1D Array Slicing\n",
    "\n",
    "# Slicing in a 1D array\n",
    "sliced_array = arr_1d[2:6]  # Extracting elements from index 2 to 5\n",
    "\n",
    "# Print sliced array\n",
    "sliced_array"
   ]
  },
  {
   "cell_type": "code",
   "execution_count": 9,
   "id": "9b427c58",
   "metadata": {},
   "outputs": [
    {
     "data": {
      "text/plain": [
       "array([[2, 3],\n",
       "       [5, 6]])"
      ]
     },
     "execution_count": 9,
     "metadata": {},
     "output_type": "execute_result"
    }
   ],
   "source": [
    "# Example: 2D Array Slicing\n",
    "\n",
    "# Slicing in a 2D array\n",
    "sliced_submatrix = arr_2d[0:2, 1:3]  # Extracting rows 0 to 1, columns 1 to 2\n",
    "\n",
    "# Print sliced submatrix\n",
    "sliced_submatrix"
   ]
  },
  {
   "cell_type": "code",
   "execution_count": 10,
   "id": "b8a96042",
   "metadata": {},
   "outputs": [
    {
     "data": {
      "text/plain": [
       "array([[[ 1,  2],\n",
       "        [ 4,  5]],\n",
       "\n",
       "       [[ 7,  8],\n",
       "        [10, 11]]])"
      ]
     },
     "execution_count": 10,
     "metadata": {},
     "output_type": "execute_result"
    }
   ],
   "source": [
    "# Example: 3D Array Slicing\n",
    "\n",
    "# Slicing in a 3D array\n",
    "sliced_subarray = arr_3d[:, 0:2, 0:2]  # Extracting all matrices, rows 0 to 1, columns 0 to 1\n",
    "\n",
    "# Print sliced subarray\n",
    "sliced_subarray"
   ]
  },
  {
   "cell_type": "markdown",
   "id": "2b2225f8",
   "metadata": {},
   "source": [
    "3. **Reshaping**: Reshaping involves changing the dimensions of an array while preserving the data. The `reshape` method is used for this purpose."
   ]
  },
  {
   "cell_type": "code",
   "execution_count": 11,
   "id": "b3e740ac",
   "metadata": {},
   "outputs": [
    {
     "data": {
      "text/plain": [
       "(array([[ 1,  2,  3,  4,  5],\n",
       "        [ 6,  7,  8,  9, 10]]),\n",
       " array([1, 2, 3, 4, 5, 6, 7, 8, 9]))"
      ]
     },
     "execution_count": 11,
     "metadata": {},
     "output_type": "execute_result"
    }
   ],
   "source": [
    "# Reshaping arrays\n",
    "reshaped_1d = arr_1d.reshape(2, 5)  # Reshaping 1D array into a 2D array of shape (2, 5)\n",
    "reshaped_2d = arr_2d.reshape(9)  # Reshaping 2D array into a 1D array of length 9\n",
    "\n",
    "# Print reshaped arrays\n",
    "reshaped_1d, reshaped_2d"
   ]
  },
  {
   "cell_type": "markdown",
   "id": "01fc0516",
   "metadata": {},
   "source": [
    "4. **NumPy Axis** : In NumPy, the 'axis' parameter is used to specify the dimension along which operations are performed, such as mean, sum, etc. "
   ]
  },
  {
   "cell_type": "code",
   "execution_count": 14,
   "id": "1044ffb0",
   "metadata": {},
   "outputs": [
    {
     "data": {
      "text/plain": [
       "(array([12, 15, 18]), array([ 6, 15, 24]))"
      ]
     },
     "execution_count": 14,
     "metadata": {},
     "output_type": "execute_result"
    }
   ],
   "source": [
    "# Example using axis\n",
    "arr_2d_mean_axis_0 = np.sum(arr_2d, axis=0)  # Calculate sum along rows (axis 0)\n",
    "arr_2d_mean_axis_1 = np.sum(arr_2d, axis=1)  # Calculate sum along columns (axis 1)\n",
    "\n",
    "# Print sum along axis 0 and axis 1\n",
    "arr_2d_mean_axis_0, arr_2d_mean_axis_1"
   ]
  },
  {
   "cell_type": "markdown",
   "id": "5f06ec2e",
   "metadata": {},
   "source": [
    "5. **NumPy Transpose** : The transpose operation swaps the rows and columns of a 2D array, effectively flipping it across its diagonal."
   ]
  },
  {
   "cell_type": "code",
   "execution_count": 15,
   "id": "de411b30",
   "metadata": {},
   "outputs": [
    {
     "data": {
      "text/plain": [
       "array([[1, 4, 7],\n",
       "       [2, 5, 8],\n",
       "       [3, 6, 9]])"
      ]
     },
     "execution_count": 15,
     "metadata": {},
     "output_type": "execute_result"
    }
   ],
   "source": [
    "# Example using transpose\n",
    "transposed_arr_2d = np.transpose(arr_2d)  # Transpose the 2D array\n",
    "\n",
    "# Print transposed array\n",
    "transposed_arr_2d"
   ]
  },
  {
   "cell_type": "markdown",
   "id": "12f88823",
   "metadata": {},
   "source": [
    "**Conclusion**: Hence, We have learned and practiced NumPy's essential array operations: indexing, slicing, reshaping, axis manipulation, and transpose."
   ]
  }
 ],
 "metadata": {
  "kernelspec": {
   "display_name": "Python 3 (ipykernel)",
   "language": "python",
   "name": "python3"
  },
  "language_info": {
   "codemirror_mode": {
    "name": "ipython",
    "version": 3
   },
   "file_extension": ".py",
   "mimetype": "text/x-python",
   "name": "python",
   "nbconvert_exporter": "python",
   "pygments_lexer": "ipython3",
   "version": "3.11.4"
  }
 },
 "nbformat": 4,
 "nbformat_minor": 5
}
