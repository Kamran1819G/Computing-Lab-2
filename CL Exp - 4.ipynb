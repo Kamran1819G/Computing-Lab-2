{
 "cells": [
  {
   "cell_type": "markdown",
   "id": "e15d335f",
   "metadata": {},
   "source": [
    "**Name**: Kamran Khan\n",
    "\n",
    "**Batch**: B1\n",
    "\n",
    "**Class**: TY - CSE AIML\n",
    "\n",
    "**Roll No**: 11"
   ]
  },
  {
   "cell_type": "markdown",
   "id": "a546a4f6",
   "metadata": {},
   "source": [
    "<h1 align=\"center\">Computing Lab - II | Experiment No - 4</h1>"
   ]
  },
  {
   "cell_type": "markdown",
   "id": "54b7d7aa",
   "metadata": {},
   "source": [
    "**Aim:** Aggregate Functions in Python"
   ]
  },
  {
   "cell_type": "markdown",
   "id": "be58e960",
   "metadata": {},
   "source": [
    "**Objective:** To explore and understand  the use of aggregate functions in Python, focusing  on common functions such as `sum()`, `min()`, `max()`, `mean()`, and `count()`."
   ]
  },
  {
   "cell_type": "markdown",
   "id": "0faea82d",
   "metadata": {},
   "source": [
    "**Theory:**"
   ]
  },
  {
   "cell_type": "code",
   "execution_count": 1,
   "id": "8efb3917",
   "metadata": {},
   "outputs": [],
   "source": [
    "import pandas as pd\n",
    "import numpy as np\n",
    "\n",
    "df = pd.read_csv('IMDb_top_1000.csv')"
   ]
  },
  {
   "cell_type": "markdown",
   "id": "5eb524c5",
   "metadata": {},
   "source": [
    "1. `sum()`: \n",
    "    - Purpose: Calculates the total sum of numeric values in a dataset.\n",
    "    - Usage: `sum(data)` or `column_name.sum()`, where data is an iterable like a list"
   ]
  },
  {
   "cell_type": "code",
   "execution_count": 7,
   "id": "ebc23100",
   "metadata": {},
   "outputs": [
    {
     "data": {
      "text/plain": [
       "273692911"
      ]
     },
     "execution_count": 7,
     "metadata": {},
     "output_type": "execute_result"
    }
   ],
   "source": [
    "df['No_of_Votes'].sum()"
   ]
  },
  {
   "cell_type": "markdown",
   "id": "f51e02dc",
   "metadata": {},
   "source": [
    "2. `min()`and `max()`: \n",
    "    - Purpose: Finds the minimum and  maximum values in a dataset.\n",
    "    - Usage: `min(data)` and `max(data)` or `column_data.min()` and `column_data.max()`"
   ]
  },
  {
   "cell_type": "code",
   "execution_count": 5,
   "id": "7b8a868a",
   "metadata": {},
   "outputs": [
    {
     "data": {
      "text/plain": [
       "7.6"
      ]
     },
     "execution_count": 5,
     "metadata": {},
     "output_type": "execute_result"
    }
   ],
   "source": [
    "df['IMDB_Rating'].min()"
   ]
  },
  {
   "cell_type": "code",
   "execution_count": 6,
   "id": "5343eb91",
   "metadata": {},
   "outputs": [
    {
     "data": {
      "text/plain": [
       "9.3"
      ]
     },
     "execution_count": 6,
     "metadata": {},
     "output_type": "execute_result"
    }
   ],
   "source": [
    "df['IMDB_Rating'].max()"
   ]
  },
  {
   "cell_type": "markdown",
   "id": "dfb2cc5f",
   "metadata": {},
   "source": [
    "3. `mean()`: \n",
    "    - Purpose: Calculates the average (mean) value of a dataset.\n",
    "    - Usage: `(sum(data) / len(data))` or `column_data.mean()`"
   ]
  },
  {
   "cell_type": "code",
   "execution_count": 3,
   "id": "0e424e2f",
   "metadata": {},
   "outputs": [
    {
     "data": {
      "text/plain": [
       "7.949300000000012"
      ]
     },
     "execution_count": 3,
     "metadata": {},
     "output_type": "execute_result"
    }
   ],
   "source": [
    "df['IMDB_Rating'].mean()"
   ]
  },
  {
   "cell_type": "markdown",
   "id": "42358521",
   "metadata": {},
   "source": [
    "4. `count()`: \n",
    "    - Purpose: Counts the number of elements in a dataset.\n",
    "    - Usage: `len(data)` or `column_data.count()`"
   ]
  },
  {
   "cell_type": "code",
   "execution_count": 2,
   "id": "72368e9b",
   "metadata": {},
   "outputs": [
    {
     "data": {
      "text/plain": [
       "Poster_Link      1000\n",
       "Series_Title     1000\n",
       "Released_Year    1000\n",
       "Certificate       899\n",
       "Runtime          1000\n",
       "Genre            1000\n",
       "IMDB_Rating      1000\n",
       "Overview         1000\n",
       "Meta_score        843\n",
       "Director         1000\n",
       "Star1            1000\n",
       "Star2            1000\n",
       "Star3            1000\n",
       "Star4            1000\n",
       "No_of_Votes      1000\n",
       "Gross             831\n",
       "dtype: int64"
      ]
     },
     "execution_count": 2,
     "metadata": {},
     "output_type": "execute_result"
    }
   ],
   "source": [
    "df.count()"
   ]
  },
  {
   "cell_type": "markdown",
   "id": "50709888",
   "metadata": {},
   "source": [
    "5. `var()`: \n",
    "    - Purpose:\n",
    "    - Usage: `column_data.var()`"
   ]
  },
  {
   "cell_type": "code",
   "execution_count": 10,
   "id": "36f13276",
   "metadata": {},
   "outputs": [
    {
     "data": {
      "text/plain": [
       "0.07589540540540526"
      ]
     },
     "execution_count": 10,
     "metadata": {},
     "output_type": "execute_result"
    }
   ],
   "source": [
    "df['IMDB_Rating'].var()"
   ]
  },
  {
   "cell_type": "markdown",
   "id": "8eca27fe",
   "metadata": {},
   "source": [
    "6. `median()`: \n",
    "    - Purpose: \n",
    "    - Usage: `column_data.median()`"
   ]
  },
  {
   "cell_type": "code",
   "execution_count": 11,
   "id": "0b4c74d1",
   "metadata": {},
   "outputs": [
    {
     "data": {
      "text/plain": [
       "7.9"
      ]
     },
     "execution_count": 11,
     "metadata": {},
     "output_type": "execute_result"
    }
   ],
   "source": [
    "df['IMDB_Rating'].median()"
   ]
  },
  {
   "cell_type": "markdown",
   "id": "e33d2849",
   "metadata": {},
   "source": [
    "7. `describe()`: \n",
    "    - Purpose: The describe() function is used to generate descriptive statistics of a DataFrame. It calculates various summary statistics for numerical columns in the DataFrame\n",
    "    - Usage: "
   ]
  },
  {
   "cell_type": "code",
   "execution_count": 12,
   "id": "b6f66ae7",
   "metadata": {},
   "outputs": [
    {
     "data": {
      "text/html": [
       "<div>\n",
       "<style scoped>\n",
       "    .dataframe tbody tr th:only-of-type {\n",
       "        vertical-align: middle;\n",
       "    }\n",
       "\n",
       "    .dataframe tbody tr th {\n",
       "        vertical-align: top;\n",
       "    }\n",
       "\n",
       "    .dataframe thead th {\n",
       "        text-align: right;\n",
       "    }\n",
       "</style>\n",
       "<table border=\"1\" class=\"dataframe\">\n",
       "  <thead>\n",
       "    <tr style=\"text-align: right;\">\n",
       "      <th></th>\n",
       "      <th>IMDB_Rating</th>\n",
       "      <th>Meta_score</th>\n",
       "      <th>No_of_Votes</th>\n",
       "    </tr>\n",
       "  </thead>\n",
       "  <tbody>\n",
       "    <tr>\n",
       "      <th>count</th>\n",
       "      <td>1000.000000</td>\n",
       "      <td>843.000000</td>\n",
       "      <td>1.000000e+03</td>\n",
       "    </tr>\n",
       "    <tr>\n",
       "      <th>mean</th>\n",
       "      <td>7.949300</td>\n",
       "      <td>77.971530</td>\n",
       "      <td>2.736929e+05</td>\n",
       "    </tr>\n",
       "    <tr>\n",
       "      <th>std</th>\n",
       "      <td>0.275491</td>\n",
       "      <td>12.376099</td>\n",
       "      <td>3.273727e+05</td>\n",
       "    </tr>\n",
       "    <tr>\n",
       "      <th>min</th>\n",
       "      <td>7.600000</td>\n",
       "      <td>28.000000</td>\n",
       "      <td>2.508800e+04</td>\n",
       "    </tr>\n",
       "    <tr>\n",
       "      <th>25%</th>\n",
       "      <td>7.700000</td>\n",
       "      <td>70.000000</td>\n",
       "      <td>5.552625e+04</td>\n",
       "    </tr>\n",
       "    <tr>\n",
       "      <th>50%</th>\n",
       "      <td>7.900000</td>\n",
       "      <td>79.000000</td>\n",
       "      <td>1.385485e+05</td>\n",
       "    </tr>\n",
       "    <tr>\n",
       "      <th>75%</th>\n",
       "      <td>8.100000</td>\n",
       "      <td>87.000000</td>\n",
       "      <td>3.741612e+05</td>\n",
       "    </tr>\n",
       "    <tr>\n",
       "      <th>max</th>\n",
       "      <td>9.300000</td>\n",
       "      <td>100.000000</td>\n",
       "      <td>2.343110e+06</td>\n",
       "    </tr>\n",
       "  </tbody>\n",
       "</table>\n",
       "</div>"
      ],
      "text/plain": [
       "       IMDB_Rating  Meta_score   No_of_Votes\n",
       "count  1000.000000  843.000000  1.000000e+03\n",
       "mean      7.949300   77.971530  2.736929e+05\n",
       "std       0.275491   12.376099  3.273727e+05\n",
       "min       7.600000   28.000000  2.508800e+04\n",
       "25%       7.700000   70.000000  5.552625e+04\n",
       "50%       7.900000   79.000000  1.385485e+05\n",
       "75%       8.100000   87.000000  3.741612e+05\n",
       "max       9.300000  100.000000  2.343110e+06"
      ]
     },
     "execution_count": 12,
     "metadata": {},
     "output_type": "execute_result"
    }
   ],
   "source": [
    "df.describe()"
   ]
  },
  {
   "cell_type": "markdown",
   "id": "9eb7d8b2",
   "metadata": {},
   "source": [
    "**Conclusion:** Aggregate functions in Python are powerful tools for analyzing and summarizing data. By practicing these functions, we'll gain valuable skills for working with datasets"
   ]
  }
 ],
 "metadata": {
  "kernelspec": {
   "display_name": "Python 3 (ipykernel)",
   "language": "python",
   "name": "python3"
  },
  "language_info": {
   "codemirror_mode": {
    "name": "ipython",
    "version": 3
   },
   "file_extension": ".py",
   "mimetype": "text/x-python",
   "name": "python",
   "nbconvert_exporter": "python",
   "pygments_lexer": "ipython3",
   "version": "3.9.12"
  }
 },
 "nbformat": 4,
 "nbformat_minor": 5
}
