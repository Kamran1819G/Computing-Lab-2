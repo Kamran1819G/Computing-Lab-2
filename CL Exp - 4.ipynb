{
  "cells": [
    {
      "cell_type": "markdown",
      "id": "25b356b4",
      "metadata": {},
      "source": [
        "**Name**: Kamran Khan\n",
        "\n",
        "**Batch**: B1\n",
        "\n",
        "**Class**: TY - CSE AIML\n",
        "\n",
        "**Roll No**: 11"
      ]
    },
    {
      "cell_type": "markdown",
      "id": "f74573d6",
      "metadata": {},
      "source": [
        "<h1 align=\"center\">Computing Lab - II | Experiment No - 4</h1>"
      ]
    },
    {
      "cell_type": "markdown",
      "id": "9a20ec03",
      "metadata": {},
      "source": [
        "**Theory**: Regular expressions, often abbreviated as regex or regexp, are powerful tools for text processing and pattern matching in Python. They provide a concise and flexible means to search, match, and manipulate strings based on specific patterns. Python's `re` module is the primary library for working with regular expressions.\n",
        "\n",
        "**Basics of Regular Expressions**\n",
        "\n",
        "A regular expression is a sequence of characters that defines a search pattern. Here are some fundamental concepts:\n",
        "\n",
        "1. Literal Characters: Literal characters match themselves. For example, the regex `python` will match the string \"python\" in a text.\n",
        "\n",
        "```python\n",
        "import re\n",
        "\n",
        "pattern = re.compile(r'python')\n",
        "result = pattern.search('I love Python programming')\n",
        "print(result.group())  # Output: Python\n",
        "```\n",
        "\n",
        "2. Metacharacters: Metacharacters have special meanings in regex. Some common metacharacters include:\n",
        "\n",
        "- `.` (dot): Matches any character except a newline.\n",
        "- `^`: Anchors the regex at the start of the string.\n",
        "- `$`: Anchors the regex at the end of the string.\n",
        "- `*`: Matches zero or more occurrences of the preceding character.\n",
        "- `+`: Matches one or more occurrences of the preceding character.\n",
        "- `?`: Matches zero or one occurrence of the preceding character.\n",
        "- `[]`: Defines a character class, matches any one of the characters inside the brackets.\n",
        "\n",
        "3. Quantifiers: Quantifiers define the number of occurrences of a character or group. Examples include:\n",
        "\n",
        "- `{n}`: Matches exactly n occurrences.\n",
        "- `{n,}`: Matches n or more occurrences.\n",
        "- `{n, m}`: Matches between n and m occurrences.\n",
        "\n",
        "```python\n",
        "pattern = re.compile(r'\\d{3}-\\d{2}-\\d{4}')  # Matches a Social Security Number\n",
        "result = pattern.search('My SSN is 123-45-6789')\n",
        "print(result.group())  # Output: 123-45-6789\n",
        "```\n",
        "\n",
        "4. Character Classes: Character classes define a set of characters. They are specified using square brackets `[]`.\n",
        "\n",
        "```python\n",
        "pattern = re.compile(r'[aeiou]')  # Matches any vowel\n",
        "result = pattern.findall('Hello World')\n",
        "print(result)  # Output: ['e', 'o', 'o']\n",
        "```\n",
        "\n",
        "5. Escape Characters: To match a metacharacter as a literal, precede it with a backslash `\\`.\n",
        "\n",
        "```python\n",
        "pattern = re.compile(r'\\$')  # Matches the dollar sign\n",
        "result = pattern.search('The price is $20')\n",
        "print(result.group())  # Output: $\n",
        "```\n",
        "\n",
        "**Advanced Usage**\n",
        "\n",
        "1. Groups and Capturing: Use parentheses to create groups. Groups can be used for capturing and referencing matched portions of the input.\n",
        "\n",
        "```python\n",
        "pattern = re.compile(r'(\\d+)-(\\w+)')\n",
        "result = pattern.search('123-abc')\n",
        "print(result.group(1))  # Output: 123\n",
        "print(result.group(2))  # Output: abc\n",
        "```\n",
        "\n",
        "2. Lookahead and Lookbehind: Lookahead and lookbehind assertions allow you to match a group of characters only if they are followed or preceded by another group.\n",
        "\n",
        "```python\n",
        "pattern = re.compile(r'\\d+(?=%)')  # Matches digits followed by %\n",
        "result = pattern.search('Price: $50%')\n",
        "print(result.group())  # Output: 50\n",
        "```\n",
        "\n",
        "3. Flags: The `re` module provides flags that modify the behavior of the regex. Common flags include `re.IGNORECASE` for case-insensitive matching and `re.MULTILINE` for multiline matching.\n",
        "\n",
        "```python\n",
        "pattern = re.compile(r'apple', re.IGNORECASE)\n",
        "result = pattern.search('I love Apple products')\n",
        "print(result.group())  # Output: Apple\n",
        "```\n"
      ]
    },
    {
      "cell_type": "markdown",
      "id": "547ce9a7",
      "metadata": {},
      "source": [
        "**Conclusion:** Regular expressions are a versatile tool for string manipulation and text processing in Python. While they may seem daunting at first, mastering regex can greatly enhance your ability to work with textual data efficiently. Practice and experimentation are key to becoming proficient in using regular expressions effectively."
      ]
    }
  ],
  "metadata": {
    "kernelspec": {
      "display_name": "Python 3",
      "language": "python",
      "name": "python3"
    },
    "language_info": {
      "codemirror_mode": {
        "name": "ipython",
        "version": 3
      },
      "file_extension": ".py",
      "mimetype": "text/x-python",
      "name": "python",
      "nbconvert_exporter": "python",
      "pygments_lexer": "ipython3",
      "version": "3.11.5"
    }
  },
  "nbformat": 4,
  "nbformat_minor": 5
}
