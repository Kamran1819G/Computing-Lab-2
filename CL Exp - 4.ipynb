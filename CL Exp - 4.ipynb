{
 "cells": [
  {
   "cell_type": "markdown",
   "id": "0b89094b",
   "metadata": {},
   "source": [
    "**Name**: Kamran Khan\n",
    "\n",
    "**Batch**: B1\n",
    "\n",
    "**Class**: TY - CSE AIML\n",
    "\n",
    "**Roll No**: 11"
   ]
  },
  {
   "cell_type": "markdown",
   "id": "ac2a2c7f",
   "metadata": {},
   "source": [
    "<h1 align=\"center\">Computing Lab - II | Experiment No - 4</h1>"
   ]
  },
  {
   "cell_type": "markdown",
   "id": "4e3e046e",
   "metadata": {},
   "source": [
    "**Aim:**"
   ]
  },
  {
   "cell_type": "markdown",
   "id": "b2231cae",
   "metadata": {},
   "source": [
    "**Theory:**"
   ]
  },
  {
   "cell_type": "code",
   "execution_count": null,
   "id": "3248ccce",
   "metadata": {},
   "outputs": [],
   "source": [
    "**Conclusion:**"
   ]
  }
 ],
 "metadata": {
  "kernelspec": {
   "display_name": "Python 3 (ipykernel)",
   "language": "python",
   "name": "python3"
  },
  "language_info": {
   "codemirror_mode": {
    "name": "ipython",
    "version": 3
   },
   "file_extension": ".py",
   "mimetype": "text/x-python",
   "name": "python",
   "nbconvert_exporter": "python",
   "pygments_lexer": "ipython3",
   "version": "3.9.12"
  }
 },
 "nbformat": 4,
 "nbformat_minor": 5
}
