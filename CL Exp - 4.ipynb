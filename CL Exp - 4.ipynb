{
 "cells": [
  {
   "cell_type": "markdown",
   "id": "25b356b4",
   "metadata": {},
   "source": [
    "**Name**: Kamran Khan\n",
    "\n",
    "**Batch**: B1\n",
    "\n",
    "**Class**: TY - CSE AIML\n",
    "\n",
    "**Roll No**: 11"
   ]
  },
  {
   "cell_type": "markdown",
   "id": "6cd6a4eb",
   "metadata": {},
   "source": [
    "<h1 align=\"center\">Computing Lab - II | Experiment No - 4</h1>"
   ]
  },
  {
   "cell_type": "markdown",
   "id": "3b0a7f49",
   "metadata": {},
   "source": [
    "**Aim**: Implementation of Date and time function using python."
   ]
  },
  {
   "cell_type": "markdown",
   "id": "83c5498c",
   "metadata": {},
   "source": [
    "**Objective**:"
   ]
  },
  {
   "cell_type": "markdown",
   "id": "1c76c69f",
   "metadata": {},
   "source": [
    "**Theory**:"
   ]
  },
  {
   "cell_type": "markdown",
   "id": "d2ade1e9",
   "metadata": {},
   "source": [
    "- Creating a datetime object"
   ]
  },
  {
   "cell_type": "code",
   "execution_count": 1,
   "id": "5c1e3385",
   "metadata": {},
   "outputs": [
    {
     "name": "stdout",
     "output_type": "stream",
     "text": [
      "2004-04-04 00:00:00\n"
     ]
    }
   ],
   "source": [
    "import datetime \n",
    "\n",
    "b = datetime.datetime(2004, 4, 4, 0, 0, 0, 0)\n",
    "print(b)"
   ]
  },
  {
   "cell_type": "markdown",
   "id": "4b185e47",
   "metadata": {},
   "source": [
    "- Getting the current date and time"
   ]
  },
  {
   "cell_type": "code",
   "execution_count": 2,
   "id": "f6f7c216",
   "metadata": {},
   "outputs": [
    {
     "name": "stdout",
     "output_type": "stream",
     "text": [
      "2023-08-22 01:35:46.268935\n"
     ]
    }
   ],
   "source": [
    "now = datetime.datetime.now()\n",
    "print(now)"
   ]
  },
  {
   "cell_type": "markdown",
   "id": "c680ebf3",
   "metadata": {},
   "source": [
    "- Getting the current date"
   ]
  },
  {
   "cell_type": "code",
   "execution_count": 3,
   "id": "c9f0ccac",
   "metadata": {},
   "outputs": [
    {
     "name": "stdout",
     "output_type": "stream",
     "text": [
      "2023-08-22\n"
     ]
    }
   ],
   "source": [
    "current_date = datetime.date.today()\n",
    "print(current_date)"
   ]
  },
  {
   "cell_type": "markdown",
   "id": "b895db29",
   "metadata": {},
   "source": [
    "- Subtracting durations from datetime object"
   ]
  },
  {
   "cell_type": "code",
   "execution_count": 4,
   "id": "3567ff42",
   "metadata": {},
   "outputs": [
    {
     "name": "stdout",
     "output_type": "stream",
     "text": [
      "14 days, 13:55:39\n"
     ]
    }
   ],
   "source": [
    "time1 = datetime.timedelta(weeks = 2, days = 5, hours = 1, seconds = 33)\n",
    "time2 = datetime.timedelta(days = 4, hours = 11, minutes = 4, seconds = 54)\n",
    "\n",
    "time3 = time1 - time2\n",
    "print(time3)"
   ]
  },
  {
   "cell_type": "markdown",
   "id": "b7f75f37",
   "metadata": {},
   "source": [
    "- Adding durations from date object"
   ]
  },
  {
   "cell_type": "code",
   "execution_count": 5,
   "id": "bc572efb",
   "metadata": {},
   "outputs": [
    {
     "name": "stdout",
     "output_type": "stream",
     "text": [
      "23 days, 12:05:27\n"
     ]
    }
   ],
   "source": [
    "time1 = datetime.timedelta(weeks = 2, days = 5, hours = 1, seconds = 33)\n",
    "time2 = datetime.timedelta(days = 4, hours = 11, minutes = 4, seconds = 54)\n",
    "\n",
    "time3 = time1 + time2\n",
    "print(time3)"
   ]
  },
  {
   "cell_type": "markdown",
   "id": "0a89383d",
   "metadata": {},
   "source": [
    "- Calculating the difference between two datetime object"
   ]
  },
  {
   "cell_type": "code",
   "execution_count": 6,
   "id": "63f194ad",
   "metadata": {},
   "outputs": [
    {
     "name": "stdout",
     "output_type": "stream",
     "text": [
      "2023/08/22, 01:35:46\n"
     ]
    }
   ],
   "source": [
    "s1 = now.strftime(\"%Y/%m/%d, %H:%M:%S\")\n",
    "\n",
    "print(s1)"
   ]
  },
  {
   "cell_type": "markdown",
   "id": "a50fe16c",
   "metadata": {},
   "source": [
    "- Calculating the Difference between two datetime object"
   ]
  },
  {
   "cell_type": "code",
   "execution_count": 7,
   "id": "ac29e729",
   "metadata": {},
   "outputs": [
    {
     "name": "stdout",
     "output_type": "stream",
     "text": [
      "Difference is 6574 days\n"
     ]
    }
   ],
   "source": [
    "str_d1 = \"2004/04/10\"\n",
    "str_d2 = \"2022/04/10\"\n",
    "\n",
    "d1 = datetime.datetime.strptime(str_d1, \"%Y/%m/%d\")\n",
    "d2 = datetime.datetime.strptime(str_d2, \"%Y/%m/%d\")\n",
    "\n",
    "delta = d2 - d1\n",
    "\n",
    "print(f'Difference is {delta.days} days')"
   ]
  },
  {
   "cell_type": "code",
   "execution_count": 8,
   "id": "0791f150",
   "metadata": {},
   "outputs": [
    {
     "name": "stdout",
     "output_type": "stream",
     "text": [
      "2004-04-10\n"
     ]
    }
   ],
   "source": [
    "d = datetime.date(2004,4,10)\n",
    "print(d)"
   ]
  },
  {
   "cell_type": "code",
   "execution_count": 9,
   "id": "a0b0b0fa",
   "metadata": {},
   "outputs": [
    {
     "name": "stdout",
     "output_type": "stream",
     "text": [
      "7073 days, 0:00:00\n"
     ]
    }
   ],
   "source": [
    "delta = current_date - d\n",
    "print(delta)"
   ]
  },
  {
   "cell_type": "markdown",
   "id": "53d9d990",
   "metadata": {},
   "source": [
    "- Extracting components from datetime object"
   ]
  },
  {
   "cell_type": "code",
   "execution_count": 10,
   "id": "380c96c9",
   "metadata": {},
   "outputs": [
    {
     "name": "stdout",
     "output_type": "stream",
     "text": [
      "Date and Time : 2023-08-22 01:35:46.416235\n",
      "Hour:  1\n",
      "Minute:  35\n",
      "Second:  46\n",
      "Microsecond:  416235\n",
      "Days:  22\n",
      "Month:  8\n",
      "Year:  2023\n"
     ]
    }
   ],
   "source": [
    "dt = datetime.datetime.now()\n",
    "print(\"Date and Time :\", dt)\n",
    "print(\"Hour: \", dt.hour)\n",
    "print(\"Minute: \", dt.minute)\n",
    "print(\"Second: \", dt.second)\n",
    "print(\"Microsecond: \", dt.microsecond)\n",
    "print(\"Days: \",dt.day)\n",
    "print(\"Month: \", dt.month)\n",
    "print(\"Year: \",dt.year)"
   ]
  }
 ],
 "metadata": {
  "kernelspec": {
   "display_name": "Python 3 (ipykernel)",
   "language": "python",
   "name": "python3"
  },
  "language_info": {
   "codemirror_mode": {
    "name": "ipython",
    "version": 3
   },
   "file_extension": ".py",
   "mimetype": "text/x-python",
   "name": "python",
   "nbconvert_exporter": "python",
   "pygments_lexer": "ipython3",
   "version": "3.11.4"
  }
 },
 "nbformat": 4,
 "nbformat_minor": 5
}
