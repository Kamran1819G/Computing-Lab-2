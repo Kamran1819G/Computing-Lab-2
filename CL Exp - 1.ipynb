{
 "cells": [
  {
   "cell_type": "markdown",
   "id": "b08f568a",
   "metadata": {},
   "source": [
    "**Name:** Kamran Khan\n",
    "\n",
    "**Batch No:** B1\n",
    "\n",
    "**Roll No:** 11\n",
    "\n",
    "**Class:** TY - CSE AIML"
   ]
  },
  {
   "cell_type": "markdown",
   "id": "eb72ac09",
   "metadata": {},
   "source": [
    "<h1 align=\"center\">Computing Lab - II | Experiment No - 1</h1>"
   ]
  },
  {
   "cell_type": "markdown",
   "id": "6f1e88e9",
   "metadata": {},
   "source": [
    "**Aim:** Implementation of basic data structures in Python"
   ]
  },
  {
   "cell_type": "markdown",
   "id": "5b7a1392",
   "metadata": {},
   "source": [
    "**Objective:** From this experiment, we will be able to\n",
    "- Learn List and its basic operations.\n",
    "- Learn Tuple and its basic operations.\n",
    "- Learn set and its basic operations.\n",
    "- Learn dictionary and dictionary basic operations."
   ]
  },
  {
   "cell_type": "markdown",
   "id": "a2e9c471",
   "metadata": {},
   "source": [
    "**Software Required:** Python 3"
   ]
  },
  {
   "cell_type": "markdown",
   "id": "cd5e9572",
   "metadata": {},
   "source": [
    "**Theory:** Following are the data structures in python\n",
    "   1. List.\n",
    "   2. Tuple.\n",
    "   3. Set.\n",
    "   4. Dictionary."
   ]
  },
  {
   "cell_type": "markdown",
   "id": "f94a7911",
   "metadata": {},
   "source": [
    "1. **List:** List are positionally ordered collections of arbitrarily typed objects, and they have no fixed size, and they are mutable. Lists are contained in square brackets []. Lists can contained numbers, strings, nested sub lists or nothing\n",
    "\n",
    "    **Examples:** \n",
    "    \n",
    "        list1 = [0,1,2,3]\n",
    "        list2 = ['zero', 'one']\n",
    "        list3 = [0,1,[2,3],'three',['four','one']]\n",
    "        list4 = []"
   ]
  },
  {
   "cell_type": "code",
   "execution_count": 1,
   "id": "1371786c",
   "metadata": {},
   "outputs": [],
   "source": [
    "def list_ops():\n",
    "    my_list = []\n",
    "\n",
    "    while True:\n",
    "        print(\"List Operations\")\n",
    "        print(\"1. Add item\")\n",
    "        print(\"2. Remove item\")\n",
    "        print(\"3. Sort list\")\n",
    "        print(\"4. Display list\")\n",
    "        print(\"5. Back\")\n",
    "        choice = int(input(\"Enter your choice: \"))\n",
    "\n",
    "        if choice == 1:\n",
    "            item = input(\"Enter item: \")\n",
    "            my_list.append(item)\n",
    "        elif choice == 2:\n",
    "            item = input(\"Enter item to remove: \")\n",
    "            if item in my_list:\n",
    "                my_list.remove(item)\n",
    "            else:\n",
    "                print(\"Item not found.\")\n",
    "        elif choice == 3:\n",
    "            my_list.sort()\n",
    "        elif choice == 4:\n",
    "            print(my_list)\n",
    "        elif choice == 5:\n",
    "            break\n",
    "        else:\n",
    "            print(\"Invalid choice. Please try again.\")"
   ]
  },
  {
   "cell_type": "markdown",
   "id": "a09faf78",
   "metadata": {},
   "source": [
    "2. **Tuple:** A tuple is a sequence of immutable python objects. Tuple are sequence, just like lists. The difference between tuples and lists are, the tuple cannot be changed unlike lists and tuple uses parenthese whereas lists use square brackets. \n",
    "\n",
    "    Creating a tuple is as simples as putting different comma-separated values. optionally you can put these comma-separated values between parenthese also\n",
    "    \n",
    "    **Examples:**\n",
    "        \n",
    "        tuple1 = ('physics','chemistry',1997,2000)\n",
    "        tuple2 = (1,2,3,4,5)\n",
    "        tuple3 = ('a','b','c','d')"
   ]
  },
  {
   "cell_type": "code",
   "execution_count": 2,
   "id": "dec8f199",
   "metadata": {},
   "outputs": [],
   "source": [
    "def tuple_ops():\n",
    "    my_tuple = ()\n",
    "\n",
    "    while True:\n",
    "        print(\"Tuple Operations\")\n",
    "        print(\"1. Create tuple\")\n",
    "        print(\"2. Display tuple\")\n",
    "        print(\"3. Back\")\n",
    "        choice = int(input(\"Enter your choice: \"))\n",
    "\n",
    "        if choice == 1:\n",
    "            items = input(\"Enter comma-separated items: \")\n",
    "            my_tuple = tuple(items.split(\",\"))\n",
    "        elif choice == 2:\n",
    "            print(my_tuple)\n",
    "        elif choice == 3:\n",
    "            break\n",
    "        else:\n",
    "            print(\"Invalid choice. Please try again.\")"
   ]
  },
  {
   "cell_type": "markdown",
   "id": "b4b35d39",
   "metadata": {},
   "source": [
    "3. **Set:** A python set is the collection of the unordered items. Each elements in the set must be unique , immutable, and the sets remove the duplicate elements. Sets are mutable which means we can modify it after its creation.\n",
    " \n",
    "    The Set can be created by enclosed the comma-separated immutable items with the curly braces {}. Python also provides set() method, which can be used to create the set by passed sequence \n",
    "    \n",
    "    **Examples:**\n",
    "    \n",
    "        set1 = {1, 2, 3, 4, 5}\n",
    "        set2 = {4, 5, 6, 7, 8}\n"
   ]
  },
  {
   "cell_type": "code",
   "execution_count": 3,
   "id": "f8fa55c5",
   "metadata": {},
   "outputs": [],
   "source": [
    "def set_ops():\n",
    "    my_set = set()\n",
    "\n",
    "    while True:\n",
    "        print(\"Set Operations\")\n",
    "        print(\"1. Add item\")\n",
    "        print(\"2. Remove item\")\n",
    "        print(\"3. Display set\")\n",
    "        print(\"4. Back\")\n",
    "        choice = int(input(\"Enter your choice: \"))\n",
    "\n",
    "        if choice == 1:\n",
    "            item = input(\"Enter item: \")\n",
    "            my_set.add(item)\n",
    "        elif choice == 2:\n",
    "            item = input(\"Enter item to remove: \")\n",
    "            if item in my_set:\n",
    "                my_set.remove(item)\n",
    "            else:\n",
    "                print(\"Item not found.\")\n",
    "        elif choice == 3:\n",
    "            print(my_set)\n",
    "        elif choice == 4:\n",
    "            break\n",
    "        else:\n",
    "            print(\"Invalid choice. Please try again.\")"
   ]
  },
  {
   "cell_type": "markdown",
   "id": "2ba52bd1",
   "metadata": {},
   "source": [
    "4. **Dictionary:** Dictionary in python consists of keys and their values.\n",
    "\n",
    "    **Example:**\n",
    "        \n",
    "        myDict = {'A' : 'Apple', 'B' : 'Boy', 'C' : 'Cat'}\n",
    "    \n",
    "    In the above examples, A dictionary is created. This Dictionary contains three elements consistues of a key value pair\n",
    "    This dictionary can be accessed using the variable myDict"
   ]
  },
  {
   "cell_type": "code",
   "execution_count": 4,
   "id": "0d9a914d",
   "metadata": {},
   "outputs": [],
   "source": [
    "def dict_ops():\n",
    "    my_dict = {}\n",
    "\n",
    "    while True:\n",
    "        print(\"Dictionary Operations\")\n",
    "        print(\"1. Add key-value pair\")\n",
    "        print(\"2. Remove key-value pair\")\n",
    "        print(\"3. Display dictionary\")\n",
    "        print(\"4. Back\")\n",
    "        choice = int(input(\"Enter your choice: \"))\n",
    "\n",
    "        if choice == 1:\n",
    "            key = input(\"Enter key: \")\n",
    "            value = input(\"Enter value: \")\n",
    "            my_dict[key] = value\n",
    "        elif choice == 2:\n",
    "            key = input(\"Enter key to remove: \")\n",
    "            if key in my_dict:\n",
    "                del my_dict[key]\n",
    "            else:\n",
    "                print(\"Key not found.\")\n",
    "        elif choice == 3:\n",
    "            print(my_dict)\n",
    "        elif choice == 4:\n",
    "            break\n",
    "        else:\n",
    "            print(\"Invalid choice. Please try again.\")"
   ]
  },
  {
   "cell_type": "code",
   "execution_count": 6,
   "id": "a71e0e21",
   "metadata": {},
   "outputs": [
    {
     "name": "stdout",
     "output_type": "stream",
     "text": [
      "1. List\n",
      "2. Tuple\n",
      "3. Set\n",
      "4. Dictionary\n",
      "5. Exit\n",
      "Enter your choice: 1\n",
      "List Operations\n",
      "1. Add item\n",
      "2. Remove item\n",
      "3. Sort list\n",
      "4. Display list\n",
      "5. Back\n",
      "Enter your choice: 1\n",
      "Enter item: 1\n",
      "List Operations\n",
      "1. Add item\n",
      "2. Remove item\n",
      "3. Sort list\n",
      "4. Display list\n",
      "5. Back\n",
      "Enter your choice: 1\n",
      "Enter item: 2\n",
      "List Operations\n",
      "1. Add item\n",
      "2. Remove item\n",
      "3. Sort list\n",
      "4. Display list\n",
      "5. Back\n",
      "Enter your choice: 4\n",
      "['1', '2']\n",
      "List Operations\n",
      "1. Add item\n",
      "2. Remove item\n",
      "3. Sort list\n",
      "4. Display list\n",
      "5. Back\n",
      "Enter your choice: 2\n",
      "Enter item to remove: 1\n",
      "List Operations\n",
      "1. Add item\n",
      "2. Remove item\n",
      "3. Sort list\n",
      "4. Display list\n",
      "5. Back\n",
      "Enter your choice: 4\n",
      "['2']\n",
      "List Operations\n",
      "1. Add item\n",
      "2. Remove item\n",
      "3. Sort list\n",
      "4. Display list\n",
      "5. Back\n",
      "Enter your choice: 5\n",
      "1. List\n",
      "2. Tuple\n",
      "3. Set\n",
      "4. Dictionary\n",
      "5. Exit\n",
      "Enter your choice: 5\n",
      "Exiting...\n"
     ]
    }
   ],
   "source": [
    "def main():\n",
    "    choice = 0\n",
    "    while choice != 5:\n",
    "        print(\"1. List\")\n",
    "        print(\"2. Tuple\")\n",
    "        print(\"3. Set\")\n",
    "        print(\"4. Dictionary\")\n",
    "        print(\"5. Exit\")\n",
    "        choice = int(input(\"Enter your choice: \"))\n",
    "\n",
    "        if choice == 1:\n",
    "            list_ops()\n",
    "        elif choice == 2:\n",
    "            tuple_ops()\n",
    "        elif choice == 3:\n",
    "            set_ops()\n",
    "        elif choice == 4:\n",
    "            dict_ops()\n",
    "        elif choice == 5:\n",
    "            print(\"Exiting...\")\n",
    "        else:\n",
    "            print(\"Invalid choice. Please try again.\")\n",
    "\n",
    "if __name__ == \"__main__\":\n",
    "    main()"
   ]
  },
  {
   "cell_type": "markdown",
   "id": "1594c6aa",
   "metadata": {},
   "source": [
    "**Conclusion:** Hence, from this experiment we learned the various operation of data structure in python like create, modify or insert elements of data structure."
   ]
  }
 ],
 "metadata": {
  "kernelspec": {
   "display_name": "Python 3 (ipykernel)",
   "language": "python",
   "name": "python3"
  },
  "language_info": {
   "codemirror_mode": {
    "name": "ipython",
    "version": 3
   },
   "file_extension": ".py",
   "mimetype": "text/x-python",
   "name": "python",
   "nbconvert_exporter": "python",
   "pygments_lexer": "ipython3",
   "version": "3.11.4"
  }
 },
 "nbformat": 4,
 "nbformat_minor": 5
}
