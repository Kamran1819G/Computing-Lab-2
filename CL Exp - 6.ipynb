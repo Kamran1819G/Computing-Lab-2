{
 "cells": [
  {
   "cell_type": "markdown",
   "id": "25b356b4",
   "metadata": {},
   "source": [
    "**Name**: Kamran Khan\n",
    "\n",
    "**Batch**: B1\n",
    "\n",
    "**Class**: TY - CSE AIML\n",
    "\n",
    "**Roll No**: 11"
   ]
  },
  {
   "cell_type": "markdown",
   "id": "f74573d6",
   "metadata": {},
   "source": [
    "<h1 align=\"center\">Computing Lab - II | Experiment No - 5</h1>"
   ]
  },
  {
   "cell_type": "markdown",
   "id": "7e212a0f",
   "metadata": {},
   "source": [
    "**Aim**:  Regular Expression in Python"
   ]
  },
  {
   "cell_type": "markdown",
   "id": "84cfaabc",
   "metadata": {},
   "source": [
    "**Objective**: The primary objective of this lab experiment is to introduce students to the concept of Regular Expressions (RegEx) in Python and develop their proficiency in using the re module. The experiment aims to familiarize students with metacharacters, special sequences, and various functions provided by the re module for effective pattern matching and manipulation in textual data."
   ]
  },
  {
   "cell_type": "markdown",
   "id": "9a20ec03",
   "metadata": {},
   "source": [
    "**Theory**: A Regular Expression (RegEx) is a sequence of characters that defines a search pattern. In Python, the `re` module is used to work with RegEx. Let's explore some basics of regular expressions.\n",
    "\n",
    "## Specify Pattern Using RegEx\n",
    "\n",
    "### Metacharacters\n",
    "\n",
    "Metacharacters are characters interpreted in a special way by a RegEx engine. Here's a list of metacharacters:\n",
    "\n",
    "- `[]` - Square brackets: Specifies a set of characters.\n",
    "- `.` - Period: Matches any single character (except newline `\\n`).\n",
    "- `^` - Caret: Checks if a string starts with a certain character.\n",
    "- `$` - Dollar: Checks if a string ends with a certain character.\n",
    "- `*` - Star: Matches zero or more occurrences of the pattern.\n",
    "- `+` - Plus: Matches one or more occurrences of the pattern.\n",
    "- `?` - Question Mark: Matches zero or one occurrence of the pattern.\n",
    "- `{}` - Braces: Specifies the number of repetitions.\n",
    "- `|` - Alternation: Acts like an OR operator.\n",
    "- `()` - Group: Groups sub-patterns.\n",
    "- `\\` - Backslash: Escapes various characters, including metacharacters.\n",
    "\n",
    "### Special Sequences\n",
    "Special sequences make commonly used patterns easier to write. Here are some examples:\n",
    "\n",
    "- `\\A` - Matches if specified characters are at the start of a string.\n",
    "- `\\b` - Matches if specified characters are at the beginning or end of a word.\n",
    "- `\\B` - Opposite of `\\b`. Matches if specified characters are not at the beginning or end of a word.\n",
    "- `\\d` - Matches any decimal digit (equivalent to `[0-9]`).\n",
    "- `\\D` - Matches any non-decimal digit (equivalent to `[^0-9]`).\n",
    "- `\\s` - Matches any whitespace character (equivalent to `[ \\t\\n\\r\\f\\v]`).\n",
    "- `\\S` - Matches any non-whitespace character (equivalent to `[^ \\t\\n\\r\\f\\v]`).\n",
    "- `\\w` - Matches any alphanumeric character (equivalent to `[a-zA-Z0-9_]`).\n",
    "- `\\W` - Matches any non-alphanumeric character (equivalent to `[^a-zA-Z0-9_]`).\n",
    "- `\\Z` - Matches if specified characters are at the end of a string.\n"
   ]
  },
  {
   "cell_type": "markdown",
   "id": "788994ae",
   "metadata": {},
   "source": [
    "## Python RegEx\n",
    "\n",
    "Python's `re` module provides functions to work with regular expressions:\n",
    "\n",
    "### `re.findall()`\n",
    "Returns a list of strings containing all matches."
   ]
  },
  {
   "cell_type": "code",
   "execution_count": 3,
   "id": "27cf0046",
   "metadata": {},
   "outputs": [
    {
     "name": "stdout",
     "output_type": "stream",
     "text": [
      "['12', '89', '34']\n"
     ]
    }
   ],
   "source": [
    "import re\n",
    "\n",
    "string = 'hello 12 hi 89. Howdy 34'\n",
    "pattern = '\\d+'\n",
    "result = re.findall(pattern, string)\n",
    "print(result) # Output: ['12', '89', '34']"
   ]
  },
  {
   "cell_type": "markdown",
   "id": "4c30e005",
   "metadata": {},
   "source": [
    "### `re.split()`\n",
    "Splits the string where there is a match and returns a list."
   ]
  },
  {
   "cell_type": "code",
   "execution_count": 4,
   "id": "dcac8967",
   "metadata": {},
   "outputs": [
    {
     "name": "stdout",
     "output_type": "stream",
     "text": [
      "['Twelve:', ' Eighty nine:', '.']\n"
     ]
    }
   ],
   "source": [
    "import re\n",
    "\n",
    "string = 'Twelve:12 Eighty nine:89.'\n",
    "pattern = '\\d+'\n",
    "result = re.split(pattern, string)\n",
    "print(result)  # Output: ['Twelve:', ' Eighty nine:', '.']"
   ]
  },
  {
   "cell_type": "markdown",
   "id": "793f58b3",
   "metadata": {},
   "source": [
    "### `re.sub()`\n",
    "Replaces matched occurrences with the content of the `replace` variable."
   ]
  },
  {
   "cell_type": "code",
   "execution_count": 5,
   "id": "ebb50803",
   "metadata": {},
   "outputs": [
    {
     "name": "stdout",
     "output_type": "stream",
     "text": [
      "abc12de23f456\n"
     ]
    }
   ],
   "source": [
    "import re\n",
    "\n",
    "string = 'abc 12 de 23 \\n f45 6'\n",
    "pattern = '\\s+'\n",
    "replace = ''\n",
    "new_string = re.sub(pattern, replace, string)\n",
    "print(new_string)  # Output: 'abc12de23f456'\n"
   ]
  },
  {
   "cell_type": "markdown",
   "id": "31b70011",
   "metadata": {},
   "source": [
    "### `re.search()`\n",
    "Looks for the first location where the RegEx pattern produces a match with the string."
   ]
  },
  {
   "cell_type": "code",
   "execution_count": 6,
   "id": "55c6f1a4",
   "metadata": {},
   "outputs": [
    {
     "name": "stdout",
     "output_type": "stream",
     "text": [
      "Pattern found inside the string\n"
     ]
    }
   ],
   "source": [
    "import re\n",
    "\n",
    "string = \"Python is fun\"\n",
    "match = re.search('\\APython', string)\n",
    "if match:\n",
    "    print(\"Pattern found inside the string\")\n",
    "else:\n",
    "    print(\"Pattern not found\")"
   ]
  },
  {
   "cell_type": "markdown",
   "id": "63d4572f",
   "metadata": {},
   "source": [
    "### `Match Object`\n",
    "The match object contains methods and attributes to get information about the match."
   ]
  },
  {
   "cell_type": "code",
   "execution_count": 7,
   "id": "4001b0f2",
   "metadata": {},
   "outputs": [
    {
     "name": "stdout",
     "output_type": "stream",
     "text": [
      "801 35\n",
      "801\n",
      "35\n",
      "('801', '35')\n"
     ]
    }
   ],
   "source": [
    "import re\n",
    "\n",
    "string = '39801 356, 2102 1111'\n",
    "pattern = '(\\d{3}) (\\d{2})'\n",
    "match = re.search(pattern, string)\n",
    "\n",
    "if match:\n",
    "    print(match.group())  # Output: '801 35'\n",
    "    print(match.group(1))  # Output: '801'\n",
    "    print(match.group(2))  # Output: '35'\n",
    "    print(match.groups())  # Output: ('801', '35')\n"
   ]
  },
  {
   "cell_type": "markdown",
   "id": "495a77c0",
   "metadata": {},
   "source": [
    "When using RegEx in Python, it's common to use the r prefix before the pattern to indicate a raw string."
   ]
  },
  {
   "cell_type": "code",
   "execution_count": 8,
   "id": "c2227a15",
   "metadata": {},
   "outputs": [
    {
     "name": "stdout",
     "output_type": "stream",
     "text": [
      "['\\n', '\\r']\n"
     ]
    }
   ],
   "source": [
    "import re\n",
    "\n",
    "string = '\\n and \\r are escape sequences.'\n",
    "result = re.findall(r'[\\n\\r]', string)\n",
    "print(result)  # Output: ['\\n', '\\r']"
   ]
  },
  {
   "cell_type": "markdown",
   "id": "547ce9a7",
   "metadata": {},
   "source": [
    "**Conclusion:** The Python `re` module empowers efficient handling of text patterns through regular expressions. Mastering metacharacters, special sequences, and module functions like `findall` and `search` enables effective string manipulation. Regular expressions in Python offer a powerful and flexible toolset for tasks involving pattern recognition and manipulation within textual data."
   ]
  }
 ],
 "metadata": {
  "kernelspec": {
   "display_name": "Python 3 (ipykernel)",
   "language": "python",
   "name": "python3"
  },
  "language_info": {
   "codemirror_mode": {
    "name": "ipython",
    "version": 3
   },
   "file_extension": ".py",
   "mimetype": "text/x-python",
   "name": "python",
   "nbconvert_exporter": "python",
   "pygments_lexer": "ipython3",
   "version": "3.11.6"
  }
 },
 "nbformat": 4,
 "nbformat_minor": 5
}
